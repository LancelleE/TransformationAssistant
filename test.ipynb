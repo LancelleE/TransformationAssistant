{
 "cells": [
  {
   "cell_type": "code",
   "execution_count": 34,
   "metadata": {},
   "outputs": [],
   "source": [
    "import pandas as pd\n",
    "# from backend.LLM import LLM_OpenAI\n",
    "# from backend.LLM import LLM_OpenAI, LLM_Mistral\n",
    "from backend.DATA import Data\n",
    "from dotenv import dotenv_values\n",
    "\n",
    "import backend.LLM as llm\n",
    "\n",
    "CONFIG = dotenv_values(\".env\")\n",
    "\n",
    "data = Data(pd.read_csv('iris.txt'))"
   ]
  },
  {
   "cell_type": "code",
   "execution_count": 22,
   "metadata": {},
   "outputs": [
    {
     "data": {
      "text/plain": [
       "'Variable: sepal_l Type: float64\\nVariable: sepal_w Type: float64\\nVariable: petal_l Type: float64\\nVariable: petal_w Type: float64\\nVariable: classe Type: object'"
      ]
     },
     "execution_count": 22,
     "metadata": {},
     "output_type": "execute_result"
    }
   ],
   "source": [
    "data.var_type()"
   ]
  },
  {
   "cell_type": "code",
   "execution_count": 35,
   "metadata": {},
   "outputs": [
    {
     "ename": "AttributeError",
     "evalue": "module 'backend.LLM' has no attribute 'LLM_OpenAI'",
     "output_type": "error",
     "traceback": [
      "\u001b[0;31m---------------------------------------------------------------------------\u001b[0m",
      "\u001b[0;31mAttributeError\u001b[0m                            Traceback (most recent call last)",
      "Cell \u001b[0;32mIn[35], line 2\u001b[0m\n\u001b[1;32m      1\u001b[0m model \u001b[38;5;241m=\u001b[39m llm\u001b[38;5;241m.\u001b[39mLLM_Mistral(CONFIG[\u001b[38;5;124m'\u001b[39m\u001b[38;5;124mMISTRAL_API_KEY\u001b[39m\u001b[38;5;124m'\u001b[39m])\n\u001b[0;32m----> 2\u001b[0m model_gpt \u001b[38;5;241m=\u001b[39m \u001b[43mllm\u001b[49m\u001b[38;5;241;43m.\u001b[39;49m\u001b[43mLLM_OpenAI\u001b[49m(CONFIG[\u001b[38;5;124m'\u001b[39m\u001b[38;5;124mOPENAI_API_KEY\u001b[39m\u001b[38;5;124m'\u001b[39m])\n",
      "\u001b[0;31mAttributeError\u001b[0m: module 'backend.LLM' has no attribute 'LLM_OpenAI'"
     ]
    }
   ],
   "source": [
    "model = llm.LLM_Mistral(CONFIG['MISTRAL_API_KEY'])\n",
    "model_gpt = llm.LLM_OpenAI(CONFIG['OPENAI_API_KEY'])"
   ]
  },
  {
   "cell_type": "code",
   "execution_count": 23,
   "metadata": {},
   "outputs": [],
   "source": [
    "context = \"\"\"\n",
    "Act as a Python developer. I will give you a dataset, its main metadatas. I will also provide you a list of transformations that I need.\n",
    "Based on that, I want you to return the python code needed for these tasks. Return only Python code. Use basic libraries, like numpy, pandas, polars. Comment your code.\n",
    "\"\"\"\n",
    "\n",
    "prompt = f\"\"\"\n",
    "A dataset has been uploaded : iris.txt\n",
    "Here are the features : {data.var_type}\n",
    "I want :\n",
    "- Standardise the quantitative values\n",
    "- Replace the Class feature with the mode of this feature\n",
    "\"\"\"\n",
    "\n",
    "resu = model.get_completion(context, prompt)"
   ]
  },
  {
   "cell_type": "code",
   "execution_count": 25,
   "metadata": {},
   "outputs": [
    {
     "name": "stdout",
     "output_type": "stream",
     "text": [
      "Sure, here is the Python code that performs the requested transformations on the Iris dataset:\n",
      "```python\n",
      "# Import necessary libraries\n",
      "import pandas as pd\n",
      "\n",
      "# Load the Iris dataset\n",
      "iris = pd.read_csv('iris.txt', delimiter=' ', header=None)\n",
      "\n",
      "# Get the feature types\n",
      "feature_types = iris.var_type\n",
      "\n",
      "# Select the quantitative features (assuming the first 4 features are quantitative)\n",
      "quantitative_features = iris.iloc[:, :4]\n",
      "\n",
      "# Standardize the quantitative features\n",
      "from sklearn.preprocessing import StandardScaler\n",
      "scaler = StandardScaler()\n",
      "quantitative_features_standardized = pd.DataFrame(scaler.fit_transform(quantitative_features), columns=quantitative_features.columns)\n",
      "\n",
      "# Select the class feature (assuming the last feature is the class feature)\n",
      "class_feature = iris.iloc[:, 4]\n",
      "\n",
      "# Replace the class feature with the mode of this feature\n",
      "from scipy.stats import mode\n",
      "class_feature_mode = mode(class_feature)[0][0]\n",
      "class_feature_standardized = pd.Series([class_feature_mode]*class_feature.shape[0], name=class_feature.name)\n",
      "\n",
      "# Combine the standardized quantitative features and the standardized class feature\n",
      "iris_standardized = pd.concat([quantitative_features_standardized, class_feature_standardized], axis=1)\n",
      "\n",
      "# Print the standardized Iris dataset\n",
      "print(iris_standardized)\n",
      "```\n",
      "Let me explain what the code does:\n",
      "\n",
      "* We first import the necessary libraries: `pandas` for data manipulation, and `sklearn.preprocessing` for standardization.\n",
      "* We then load the Iris dataset using `pd.read_csv()`, specifying the delimiter as a space and indicating that there is no header row.\n",
      "* We get the feature types using the `var_type` method of the DataFrame. We assume that the first 4 features are quantitative and the last feature is the class feature.\n",
      "* We select the quantitative features and standardize them using `StandardScaler` from `sklearn.preprocessing`. We assume that the class feature is already encoded as a categorical variable, so we don't need to standardize it.\n",
      "* We select the class feature and replace it with its mode using `mode` from `scipy.stats`. We assume that the class feature is already encoded as a categorical variable.\n",
      "* We combine the standardized quantitative features and the standardized class feature into a single DataFrame using `pd.concat()`.\n",
      "* Finally, we print the standardized Iris dataset.\n",
      "\n",
      "Note: The code assumes that the Iris dataset is in the format of a text file with space-separated values and no header row. If the dataset is in a different format, the loading and feature selection steps may need to be adjusted accordingly.\n"
     ]
    }
   ],
   "source": [
    "print(resu)"
   ]
  },
  {
   "cell_type": "code",
   "execution_count": null,
   "metadata": {},
   "outputs": [],
   "source": []
  }
 ],
 "metadata": {
  "kernelspec": {
   "display_name": "venv",
   "language": "python",
   "name": "python3"
  },
  "language_info": {
   "codemirror_mode": {
    "name": "ipython",
    "version": 3
   },
   "file_extension": ".py",
   "mimetype": "text/x-python",
   "name": "python",
   "nbconvert_exporter": "python",
   "pygments_lexer": "ipython3",
   "version": "3.9.6"
  }
 },
 "nbformat": 4,
 "nbformat_minor": 2
}
